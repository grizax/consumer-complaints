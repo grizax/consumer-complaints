{
 "metadata": {
  "name": "",
  "signature": "sha256:f803d6453db257b84edee15700049af5c539fce76a1a62a12488ba3b3c67ee04"
 },
 "nbformat": 3,
 "nbformat_minor": 0,
 "worksheets": [
  {
   "cells": [
    {
     "cell_type": "code",
     "collapsed": false,
     "input": [
      "import numpy as np\n",
      "import seaborn as sb\n",
      "import matplotlib.pyplot as plt\n",
      "import pandas as pd\n",
      "pd.set_option('display.mpl_style', 'default') \n",
      "pd.set_option('display.width', 5000) \n",
      "pd.set_option('display.max_columns', 60)\n",
      "pd.options.display.mpl_style = 'default'\n",
      "%matplotlib inline"
     ],
     "language": "python",
     "metadata": {},
     "outputs": [],
     "prompt_number": 124
    },
    {
     "cell_type": "code",
     "collapsed": false,
     "input": [
      "Importing a data set on complaints "
     ],
     "language": "python",
     "metadata": {},
     "outputs": []
    },
    {
     "cell_type": "code",
     "collapsed": false,
     "input": [
      "complaints = pd.read_csv('complaints_dec_2014.csv')"
     ],
     "language": "python",
     "metadata": {},
     "outputs": [],
     "prompt_number": 125
    },
    {
     "cell_type": "code",
     "collapsed": false,
     "input": [
      "complaints.head()"
     ],
     "language": "python",
     "metadata": {},
     "outputs": [
      {
       "html": [
        "<div style=\"max-height:1000px;max-width:1500px;overflow:auto;\">\n",
        "<table border=\"1\" class=\"dataframe\">\n",
        "  <thead>\n",
        "    <tr style=\"text-align: right;\">\n",
        "      <th></th>\n",
        "      <th>Complaint ID</th>\n",
        "      <th>Product</th>\n",
        "      <th>Sub-product</th>\n",
        "      <th>Issue</th>\n",
        "      <th>Sub-issue</th>\n",
        "      <th>State</th>\n",
        "      <th>ZIP code</th>\n",
        "      <th>Submitted via</th>\n",
        "      <th>Date received</th>\n",
        "      <th>Date sent to company</th>\n",
        "      <th>Company</th>\n",
        "      <th>Company response</th>\n",
        "      <th>Timely response?</th>\n",
        "      <th>Consumer disputed?</th>\n",
        "    </tr>\n",
        "  </thead>\n",
        "  <tbody>\n",
        "    <tr>\n",
        "      <th>0</th>\n",
        "      <td> 1177167</td>\n",
        "      <td> Debt collection</td>\n",
        "      <td> NaN</td>\n",
        "      <td> Cont'd attempts collect debt not owed</td>\n",
        "      <td> Debt is not mine</td>\n",
        "      <td> TX</td>\n",
        "      <td> 77068</td>\n",
        "      <td> Web</td>\n",
        "      <td> 12/31/2014</td>\n",
        "      <td> 12/31/2014</td>\n",
        "      <td>  Ad Astra Recovery Services Inc</td>\n",
        "      <td>         Closed with explanation</td>\n",
        "      <td> Yes</td>\n",
        "      <td> NaN</td>\n",
        "    </tr>\n",
        "    <tr>\n",
        "      <th>1</th>\n",
        "      <td> 1177166</td>\n",
        "      <td> Debt collection</td>\n",
        "      <td> NaN</td>\n",
        "      <td> Cont'd attempts collect debt not owed</td>\n",
        "      <td> Debt is not mine</td>\n",
        "      <td> TX</td>\n",
        "      <td> 77068</td>\n",
        "      <td> Web</td>\n",
        "      <td> 12/31/2014</td>\n",
        "      <td> 12/31/2014</td>\n",
        "      <td> Unique Management Services, Inc</td>\n",
        "      <td>         Closed with explanation</td>\n",
        "      <td> Yes</td>\n",
        "      <td> NaN</td>\n",
        "    </tr>\n",
        "    <tr>\n",
        "      <th>2</th>\n",
        "      <td> 1177165</td>\n",
        "      <td> Debt collection</td>\n",
        "      <td> NaN</td>\n",
        "      <td> Cont'd attempts collect debt not owed</td>\n",
        "      <td> Debt is not mine</td>\n",
        "      <td> TX</td>\n",
        "      <td> 77068</td>\n",
        "      <td> Web</td>\n",
        "      <td> 12/31/2014</td>\n",
        "      <td> 12/31/2014</td>\n",
        "      <td>                CL Holdings, LLC</td>\n",
        "      <td>     Closed with monetary relief</td>\n",
        "      <td> Yes</td>\n",
        "      <td> NaN</td>\n",
        "    </tr>\n",
        "    <tr>\n",
        "      <th>3</th>\n",
        "      <td> 1177164</td>\n",
        "      <td> Debt collection</td>\n",
        "      <td> NaN</td>\n",
        "      <td> Cont'd attempts collect debt not owed</td>\n",
        "      <td> Debt is not mine</td>\n",
        "      <td> TX</td>\n",
        "      <td> 77068</td>\n",
        "      <td> Web</td>\n",
        "      <td> 12/31/2014</td>\n",
        "      <td> 12/31/2014</td>\n",
        "      <td>  Enhanced Recovery Company, LLC</td>\n",
        "      <td> Closed with non-monetary relief</td>\n",
        "      <td> Yes</td>\n",
        "      <td> NaN</td>\n",
        "    </tr>\n",
        "    <tr>\n",
        "      <th>4</th>\n",
        "      <td> 1177163</td>\n",
        "      <td> Debt collection</td>\n",
        "      <td> NaN</td>\n",
        "      <td> Cont'd attempts collect debt not owed</td>\n",
        "      <td> Debt is not mine</td>\n",
        "      <td> TX</td>\n",
        "      <td> 77068</td>\n",
        "      <td> Web</td>\n",
        "      <td> 12/31/2014</td>\n",
        "      <td> 12/31/2014</td>\n",
        "      <td>      Enhanced Acquisitions, LLC</td>\n",
        "      <td>         Closed with explanation</td>\n",
        "      <td> Yes</td>\n",
        "      <td> NaN</td>\n",
        "    </tr>\n",
        "  </tbody>\n",
        "</table>\n",
        "</div>"
       ],
       "metadata": {},
       "output_type": "pyout",
       "prompt_number": 126,
       "text": [
        "   Complaint ID          Product Sub-product                                  Issue         Sub-issue State  ZIP code Submitted via Date received Date sent to company                          Company                 Company response Timely response? Consumer disputed?\n",
        "0       1177167  Debt collection         NaN  Cont'd attempts collect debt not owed  Debt is not mine    TX     77068           Web    12/31/2014           12/31/2014   Ad Astra Recovery Services Inc          Closed with explanation              Yes                NaN\n",
        "1       1177166  Debt collection         NaN  Cont'd attempts collect debt not owed  Debt is not mine    TX     77068           Web    12/31/2014           12/31/2014  Unique Management Services, Inc          Closed with explanation              Yes                NaN\n",
        "2       1177165  Debt collection         NaN  Cont'd attempts collect debt not owed  Debt is not mine    TX     77068           Web    12/31/2014           12/31/2014                 CL Holdings, LLC      Closed with monetary relief              Yes                NaN\n",
        "3       1177164  Debt collection         NaN  Cont'd attempts collect debt not owed  Debt is not mine    TX     77068           Web    12/31/2014           12/31/2014   Enhanced Recovery Company, LLC  Closed with non-monetary relief              Yes                NaN\n",
        "4       1177163  Debt collection         NaN  Cont'd attempts collect debt not owed  Debt is not mine    TX     77068           Web    12/31/2014           12/31/2014       Enhanced Acquisitions, LLC          Closed with explanation              Yes                NaN"
       ]
      }
     ],
     "prompt_number": 126
    },
    {
     "cell_type": "code",
     "collapsed": false,
     "input": [
      "product_complaints = complaints['Product'].value_counts()"
     ],
     "language": "python",
     "metadata": {},
     "outputs": [],
     "prompt_number": 108
    },
    {
     "cell_type": "heading",
     "level": 3,
     "metadata": {},
     "source": [
      "Complaints by Product"
     ]
    },
    {
     "cell_type": "code",
     "collapsed": false,
     "input": [
      "product_complaints"
     ],
     "language": "python",
     "metadata": {},
     "outputs": [
      {
       "metadata": {},
       "output_type": "pyout",
       "prompt_number": 109,
       "text": [
        "Mortgage                   3002\n",
        "Debt collection            2942\n",
        "Credit reporting           2113\n",
        "Bank account or service    1136\n",
        "Credit card                1100\n",
        "Consumer loan               578\n",
        "Student loan                340\n",
        "Payday loan                 141\n",
        "Money transfers             107\n",
        "Prepaid card                 70\n",
        "Other financial service      14\n",
        "dtype: int64"
       ]
      }
     ],
     "prompt_number": 109
    },
    {
     "cell_type": "code",
     "collapsed": false,
     "input": [
      "pc = product_complaints"
     ],
     "language": "python",
     "metadata": {},
     "outputs": [],
     "prompt_number": 110
    },
    {
     "cell_type": "code",
     "collapsed": false,
     "input": [
      "pc.sort()"
     ],
     "language": "python",
     "metadata": {},
     "outputs": [],
     "prompt_number": 117
    },
    {
     "cell_type": "code",
     "collapsed": false,
     "input": [
      "pc.plot(kind='barh', title='Complaints by Product',)"
     ],
     "language": "python",
     "metadata": {},
     "outputs": [
      {
       "metadata": {},
       "output_type": "pyout",
       "prompt_number": 119,
       "text": [
        "<matplotlib.axes._subplots.AxesSubplot at 0x1153e0400>"
       ]
      },
      {
       "metadata": {},
       "output_type": "display_data",
       "png": "[encoded data removed]",
       "text": [
        "<matplotlib.figure.Figure at 0x1152ae278>"
       ]
      }
     ],
     "prompt_number": 119
    },
    {
     "cell_type": "heading",
     "level": 3,
     "metadata": {},
     "source": [
      "Complaints by Company"
     ]
    },
    {
     "cell_type": "code",
     "collapsed": false,
     "input": [
      "company_complaints = complaints['Company'].value_counts()"
     ],
     "language": "python",
     "metadata": {},
     "outputs": [],
     "prompt_number": 112
    },
    {
     "cell_type": "code",
     "collapsed": false,
     "input": [
      "cc = company_complaints[:10]"
     ],
     "language": "python",
     "metadata": {},
     "outputs": [],
     "prompt_number": 113
    },
    {
     "cell_type": "code",
     "collapsed": false,
     "input": [
      "cc.sort()"
     ],
     "language": "python",
     "metadata": {},
     "outputs": [],
     "prompt_number": 114
    },
    {
     "cell_type": "code",
     "collapsed": false,
     "input": [
      "cc"
     ],
     "language": "python",
     "metadata": {},
     "outputs": [
      {
       "metadata": {},
       "output_type": "pyout",
       "prompt_number": 115,
       "text": [
        "Capital One            252\n",
        "Nationstar Mortgage    357\n",
        "Citibank               403\n",
        "Ocwen                  408\n",
        "JPMorgan Chase         545\n",
        "Wells Fargo            598\n",
        "TransUnion             604\n",
        "Experian               675\n",
        "Equifax                737\n",
        "Bank of America        766\n",
        "dtype: int64"
       ]
      }
     ],
     "prompt_number": 115
    },
    {
     "cell_type": "code",
     "collapsed": false,
     "input": [
      "cc.plot(kind='barh', title='Top 10 Worst Offenders')"
     ],
     "language": "python",
     "metadata": {},
     "outputs": [
      {
       "metadata": {},
       "output_type": "pyout",
       "prompt_number": 120,
       "text": [
        "<matplotlib.axes._subplots.AxesSubplot at 0x11559da90>"
       ]
      },
      {
       "metadata": {},
       "output_type": "display_data",
       "png": "[encoded data removed]",
       "text": [
        "<matplotlib.figure.Figure at 0x1154522e8>"
       ]
      }
     ],
     "prompt_number": 120
    },
    {
     "cell_type": "heading",
     "level": 3,
     "metadata": {},
     "source": [
      "How Companies Respond"
     ]
    },
    {
     "cell_type": "code",
     "collapsed": false,
     "input": [
      "company_response = complaints['Company response'].value_counts()"
     ],
     "language": "python",
     "metadata": {},
     "outputs": [],
     "prompt_number": 61
    },
    {
     "cell_type": "code",
     "collapsed": false,
     "input": [
      "company_response"
     ],
     "language": "python",
     "metadata": {},
     "outputs": [
      {
       "metadata": {},
       "output_type": "pyout",
       "prompt_number": 62,
       "text": [
        "Closed with explanation            8185\n",
        "Closed with non-monetary relief    1253\n",
        "In progress                        1056\n",
        "Closed with monetary relief         643\n",
        "Closed                              239\n",
        "Untimely response                   167\n",
        "dtype: int64"
       ]
      }
     ],
     "prompt_number": 62
    },
    {
     "cell_type": "code",
     "collapsed": false,
     "input": [
      "company_response.plot(title='How Companies Respond', kind='pie', \n",
      "                             \n",
      "                             figsize=(7, 7))"
     ],
     "language": "python",
     "metadata": {},
     "outputs": [
      {
       "metadata": {},
       "output_type": "pyout",
       "prompt_number": 121,
       "text": [
        "<matplotlib.axes._subplots.AxesSubplot at 0x1156bb048>"
       ]
      },
      {
       "metadata": {},
       "output_type": "display_data",
       "png": "[encoded data removed]",
       "text": [
        "<matplotlib.figure.Figure at 0x114bcd278>"
       ]
      }
     ],
     "prompt_number": 121
    },
    {
     "cell_type": "code",
     "collapsed": false,
     "input": [],
     "language": "python",
     "metadata": {},
     "outputs": []
    }
   ],
   "metadata": {}
  }
 ]
}